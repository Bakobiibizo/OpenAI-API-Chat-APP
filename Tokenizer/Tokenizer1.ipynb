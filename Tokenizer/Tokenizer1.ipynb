{
 "cells": [
  {
   "cell_type": "code",
   "execution_count": 13,
   "id": "d2543109",
   "metadata": {},
   "outputs": [
    {
     "name": "stdout",
     "output_type": "stream",
     "text": [
      "\u001b[0m\u001b[01;32mTokenizer0.ipynb\u001b[0m*  \u001b[01;32mTokenizer1.ipynb\u001b[0m*  \u001b[01;32mUntitled.ipynb\u001b[0m*  \u001b[34;42mmy-new-tokenizer\u001b[0m/\r\n"
     ]
    }
   ],
   "source": [
    "ls"
   ]
  },
  {
   "cell_type": "code",
   "execution_count": null,
   "id": "ff3f5719",
   "metadata": {},
   "outputs": [],
   "source": []
  },
  {
   "cell_type": "code",
   "execution_count": null,
   "id": "a3a01058",
   "metadata": {},
   "outputs": [],
   "source": []
  },
  {
   "cell_type": "code",
   "execution_count": 58,
   "id": "fd4989b2",
   "metadata": {},
   "outputs": [
    {
     "name": "stdout",
     "output_type": "stream",
     "text": [
      "huggingface/tokenizers: The current process just got forked, after parallelism has already been used. Disabling parallelism to avoid deadlocks...\n",
      "To disable this warning, you can either:\n",
      "\t- Avoid using `tokenizers` before the fork if possible\n",
      "\t- Explicitly set the environment variable TOKENIZERS_PARALLELISM=(true | false)\n",
      "Requirement already satisfied: transformers in /home/bako/anaconda3/envs/tokenizer/lib/python3.10/site-packages (4.25.1)\n",
      "Requirement already satisfied: numpy>=1.17 in /home/bako/anaconda3/envs/tokenizer/lib/python3.10/site-packages (from transformers) (1.23.5)\n",
      "Requirement already satisfied: requests in /home/bako/anaconda3/envs/tokenizer/lib/python3.10/site-packages (from transformers) (2.28.1)\n",
      "Requirement already satisfied: filelock in /home/bako/anaconda3/envs/tokenizer/lib/python3.10/site-packages (from transformers) (3.9.0)\n",
      "Requirement already satisfied: tqdm>=4.27 in /home/bako/anaconda3/envs/tokenizer/lib/python3.10/site-packages (from transformers) (4.64.1)\n",
      "Requirement already satisfied: pyyaml>=5.1 in /home/bako/anaconda3/envs/tokenizer/lib/python3.10/site-packages (from transformers) (6.0)\n",
      "Requirement already satisfied: regex!=2019.12.17 in /home/bako/anaconda3/envs/tokenizer/lib/python3.10/site-packages (from transformers) (2022.10.31)\n",
      "Requirement already satisfied: tokenizers!=0.11.3,<0.14,>=0.11.1 in /home/bako/anaconda3/envs/tokenizer/lib/python3.10/site-packages (from transformers) (0.13.2)\n",
      "Requirement already satisfied: packaging>=20.0 in /home/bako/anaconda3/envs/tokenizer/lib/python3.10/site-packages (from transformers) (22.0)\n",
      "Requirement already satisfied: huggingface-hub<1.0,>=0.10.0 in /home/bako/anaconda3/envs/tokenizer/lib/python3.10/site-packages (from transformers) (0.11.1)\n",
      "Requirement already satisfied: typing-extensions>=3.7.4.3 in /home/bako/anaconda3/envs/tokenizer/lib/python3.10/site-packages (from huggingface-hub<1.0,>=0.10.0->transformers) (4.4.0)\n",
      "Requirement already satisfied: charset-normalizer<3,>=2 in /home/bako/anaconda3/envs/tokenizer/lib/python3.10/site-packages (from requests->transformers) (2.0.4)\n",
      "Requirement already satisfied: urllib3<1.27,>=1.21.1 in /home/bako/anaconda3/envs/tokenizer/lib/python3.10/site-packages (from requests->transformers) (1.26.13)\n",
      "Requirement already satisfied: certifi>=2017.4.17 in /home/bako/anaconda3/envs/tokenizer/lib/python3.10/site-packages (from requests->transformers) (2022.12.7)\n",
      "Requirement already satisfied: idna<4,>=2.5 in /home/bako/anaconda3/envs/tokenizer/lib/python3.10/site-packages (from requests->transformers) (3.4)\n",
      "huggingface/tokenizers: The current process just got forked, after parallelism has already been used. Disabling parallelism to avoid deadlocks...\n",
      "To disable this warning, you can either:\n",
      "\t- Avoid using `tokenizers` before the fork if possible\n",
      "\t- Explicitly set the environment variable TOKENIZERS_PARALLELISM=(true | false)\n",
      "Requirement already satisfied: datasets in /home/bako/anaconda3/envs/tokenizer/lib/python3.10/site-packages (2.8.0)\n",
      "Requirement already satisfied: numpy>=1.17 in /home/bako/anaconda3/envs/tokenizer/lib/python3.10/site-packages (from datasets) (1.23.5)\n",
      "Requirement already satisfied: pyarrow>=6.0.0 in /home/bako/anaconda3/envs/tokenizer/lib/python3.10/site-packages (from datasets) (10.0.1)\n",
      "Requirement already satisfied: packaging in /home/bako/anaconda3/envs/tokenizer/lib/python3.10/site-packages (from datasets) (22.0)\n",
      "Requirement already satisfied: multiprocess in /home/bako/anaconda3/envs/tokenizer/lib/python3.10/site-packages (from datasets) (0.70.14)\n",
      "Requirement already satisfied: aiohttp in /home/bako/anaconda3/envs/tokenizer/lib/python3.10/site-packages (from datasets) (3.8.3)\n",
      "Requirement already satisfied: tqdm>=4.62.1 in /home/bako/anaconda3/envs/tokenizer/lib/python3.10/site-packages (from datasets) (4.64.1)\n",
      "Requirement already satisfied: xxhash in /home/bako/anaconda3/envs/tokenizer/lib/python3.10/site-packages (from datasets) (3.2.0)\n",
      "Requirement already satisfied: dill<0.3.7 in /home/bako/anaconda3/envs/tokenizer/lib/python3.10/site-packages (from datasets) (0.3.6)\n",
      "Requirement already satisfied: pandas in /home/bako/anaconda3/envs/tokenizer/lib/python3.10/site-packages (from datasets) (1.5.2)\n",
      "Requirement already satisfied: fsspec[http]>=2021.11.1 in /home/bako/anaconda3/envs/tokenizer/lib/python3.10/site-packages (from datasets) (2022.11.0)\n",
      "Requirement already satisfied: requests>=2.19.0 in /home/bako/anaconda3/envs/tokenizer/lib/python3.10/site-packages (from datasets) (2.28.1)\n",
      "Requirement already satisfied: huggingface-hub<1.0.0,>=0.2.0 in /home/bako/anaconda3/envs/tokenizer/lib/python3.10/site-packages (from datasets) (0.11.1)\n",
      "Requirement already satisfied: responses<0.19 in /home/bako/anaconda3/envs/tokenizer/lib/python3.10/site-packages (from datasets) (0.18.0)\n",
      "Requirement already satisfied: pyyaml>=5.1 in /home/bako/anaconda3/envs/tokenizer/lib/python3.10/site-packages (from datasets) (6.0)\n",
      "Requirement already satisfied: yarl<2.0,>=1.0 in /home/bako/anaconda3/envs/tokenizer/lib/python3.10/site-packages (from aiohttp->datasets) (1.8.1)\n",
      "Requirement already satisfied: multidict<7.0,>=4.5 in /home/bako/anaconda3/envs/tokenizer/lib/python3.10/site-packages (from aiohttp->datasets) (6.0.2)\n",
      "Requirement already satisfied: charset-normalizer<3.0,>=2.0 in /home/bako/anaconda3/envs/tokenizer/lib/python3.10/site-packages (from aiohttp->datasets) (2.0.4)\n",
      "Requirement already satisfied: aiosignal>=1.1.2 in /home/bako/anaconda3/envs/tokenizer/lib/python3.10/site-packages (from aiohttp->datasets) (1.2.0)\n",
      "Requirement already satisfied: frozenlist>=1.1.1 in /home/bako/anaconda3/envs/tokenizer/lib/python3.10/site-packages (from aiohttp->datasets) (1.3.3)\n",
      "Requirement already satisfied: attrs>=17.3.0 in /home/bako/anaconda3/envs/tokenizer/lib/python3.10/site-packages (from aiohttp->datasets) (22.1.0)\n",
      "Requirement already satisfied: async-timeout<5.0,>=4.0.0a3 in /home/bako/anaconda3/envs/tokenizer/lib/python3.10/site-packages (from aiohttp->datasets) (4.0.2)\n",
      "Requirement already satisfied: typing-extensions>=3.7.4.3 in /home/bako/anaconda3/envs/tokenizer/lib/python3.10/site-packages (from huggingface-hub<1.0.0,>=0.2.0->datasets) (4.4.0)\n",
      "Requirement already satisfied: filelock in /home/bako/anaconda3/envs/tokenizer/lib/python3.10/site-packages (from huggingface-hub<1.0.0,>=0.2.0->datasets) (3.9.0)\n",
      "Requirement already satisfied: urllib3<1.27,>=1.21.1 in /home/bako/anaconda3/envs/tokenizer/lib/python3.10/site-packages (from requests>=2.19.0->datasets) (1.26.13)\n",
      "Requirement already satisfied: certifi>=2017.4.17 in /home/bako/anaconda3/envs/tokenizer/lib/python3.10/site-packages (from requests>=2.19.0->datasets) (2022.12.7)\n",
      "Requirement already satisfied: idna<4,>=2.5 in /home/bako/anaconda3/envs/tokenizer/lib/python3.10/site-packages (from requests>=2.19.0->datasets) (3.4)\n",
      "Requirement already satisfied: python-dateutil>=2.8.1 in /home/bako/anaconda3/envs/tokenizer/lib/python3.10/site-packages (from pandas->datasets) (2.8.2)\n",
      "Requirement already satisfied: pytz>=2020.1 in /home/bako/anaconda3/envs/tokenizer/lib/python3.10/site-packages (from pandas->datasets) (2022.7)\n",
      "Requirement already satisfied: six>=1.5 in /home/bako/anaconda3/envs/tokenizer/lib/python3.10/site-packages (from python-dateutil>=2.8.1->pandas->datasets) (1.16.0)\n",
      "huggingface/tokenizers: The current process just got forked, after parallelism has already been used. Disabling parallelism to avoid deadlocks...\n",
      "To disable this warning, you can either:\n",
      "\t- Avoid using `tokenizers` before the fork if possible\n",
      "\t- Explicitly set the environment variable TOKENIZERS_PARALLELISM=(true | false)\n",
      "Requirement already satisfied: seqeval in /home/bako/anaconda3/envs/tokenizer/lib/python3.10/site-packages (1.2.2)\n",
      "Requirement already satisfied: scikit-learn>=0.21.3 in /home/bako/anaconda3/envs/tokenizer/lib/python3.10/site-packages (from seqeval) (1.2.0)\n",
      "Requirement already satisfied: numpy>=1.14.0 in /home/bako/anaconda3/envs/tokenizer/lib/python3.10/site-packages (from seqeval) (1.23.5)\n",
      "Requirement already satisfied: threadpoolctl>=2.0.0 in /home/bako/anaconda3/envs/tokenizer/lib/python3.10/site-packages (from scikit-learn>=0.21.3->seqeval) (3.1.0)\n",
      "Requirement already satisfied: joblib>=1.1.1 in /home/bako/anaconda3/envs/tokenizer/lib/python3.10/site-packages (from scikit-learn>=0.21.3->seqeval) (1.2.0)\n",
      "Requirement already satisfied: scipy>=1.3.2 in /home/bako/anaconda3/envs/tokenizer/lib/python3.10/site-packages (from scikit-learn>=0.21.3->seqeval) (1.9.3)\n"
     ]
    },
    {
     "name": "stdout",
     "output_type": "stream",
     "text": [
      "huggingface/tokenizers: The current process just got forked, after parallelism has already been used. Disabling parallelism to avoid deadlocks...\n",
      "To disable this warning, you can either:\n",
      "\t- Avoid using `tokenizers` before the fork if possible\n",
      "\t- Explicitly set the environment variable TOKENIZERS_PARALLELISM=(true | false)\n",
      "Requirement already satisfied: huggingface_hub in /home/bako/anaconda3/envs/tokenizer/lib/python3.10/site-packages (0.11.1)\n",
      "Requirement already satisfied: requests in /home/bako/anaconda3/envs/tokenizer/lib/python3.10/site-packages (from huggingface_hub) (2.28.1)\n",
      "Requirement already satisfied: tqdm in /home/bako/anaconda3/envs/tokenizer/lib/python3.10/site-packages (from huggingface_hub) (4.64.1)\n",
      "Requirement already satisfied: pyyaml>=5.1 in /home/bako/anaconda3/envs/tokenizer/lib/python3.10/site-packages (from huggingface_hub) (6.0)\n",
      "Requirement already satisfied: packaging>=20.9 in /home/bako/anaconda3/envs/tokenizer/lib/python3.10/site-packages (from huggingface_hub) (22.0)\n",
      "Requirement already satisfied: typing-extensions>=3.7.4.3 in /home/bako/anaconda3/envs/tokenizer/lib/python3.10/site-packages (from huggingface_hub) (4.4.0)\n",
      "Requirement already satisfied: filelock in /home/bako/anaconda3/envs/tokenizer/lib/python3.10/site-packages (from huggingface_hub) (3.9.0)\n",
      "Requirement already satisfied: charset-normalizer<3,>=2 in /home/bako/anaconda3/envs/tokenizer/lib/python3.10/site-packages (from requests->huggingface_hub) (2.0.4)\n",
      "Requirement already satisfied: idna<4,>=2.5 in /home/bako/anaconda3/envs/tokenizer/lib/python3.10/site-packages (from requests->huggingface_hub) (3.4)\n",
      "Requirement already satisfied: certifi>=2017.4.17 in /home/bako/anaconda3/envs/tokenizer/lib/python3.10/site-packages (from requests->huggingface_hub) (2022.12.7)\n",
      "Requirement already satisfied: urllib3<1.27,>=1.21.1 in /home/bako/anaconda3/envs/tokenizer/lib/python3.10/site-packages (from requests->huggingface_hub) (1.26.13)\n"
     ]
    }
   ],
   "source": [
    "! pip install transformers\n",
    "! pip install datasets\n",
    "! pip install seqeval\n",
    "! pip install huggingface_hub"
   ]
  },
  {
   "cell_type": "code",
   "execution_count": null,
   "id": "3d8bbc4d",
   "metadata": {},
   "outputs": [],
   "source": [
    "from huggingface_hub import notebook_login\n",
    "\n",
    "notebook_login()"
   ]
  },
  {
   "cell_type": "code",
   "execution_count": null,
   "id": "6063a26e",
   "metadata": {},
   "outputs": [],
   "source": [
    "!sudo apt install git-lfs\n",
    "!git config --global user.email \"bakobiibizo@gmail..com\"\n",
    "!git config --global user.name \"Bakobiibizo\""
   ]
  },
  {
   "cell_type": "code",
   "execution_count": null,
   "id": "3c133a2b",
   "metadata": {},
   "outputs": [],
   "source": [
    "import transformers\n",
    "\n",
    "print(transformers.__version__)"
   ]
  },
  {
   "cell_type": "code",
   "execution_count": null,
   "id": "65e93900",
   "metadata": {},
   "outputs": [],
   "source": [
    "task = \"ner\"  # Should be one of \"ner\", \"pos\" or \"chunk\"\n",
    "model_checkpoint = \"distilbert-base-uncased\"\n",
    "batch_size = 16"
   ]
  },
  {
   "cell_type": "code",
   "execution_count": null,
   "id": "a5b9fe0e",
   "metadata": {},
   "outputs": [],
   "source": [
    "from datasets import load_dataset, load_metric"
   ]
  },
  {
   "cell_type": "code",
   "execution_count": null,
   "id": "fa619006",
   "metadata": {},
   "outputs": [],
   "source": []
  }
 ],
 "metadata": {
  "kernelspec": {
   "display_name": "Python 3 (ipykernel)",
   "language": "python",
   "name": "python3"
  },
  "language_info": {
   "codemirror_mode": {
    "name": "ipython",
    "version": 3
   },
   "file_extension": ".py",
   "mimetype": "text/x-python",
   "name": "python",
   "nbconvert_exporter": "python",
   "pygments_lexer": "ipython3",
   "version": "3.10.8"
  }
 },
 "nbformat": 4,
 "nbformat_minor": 5
}
